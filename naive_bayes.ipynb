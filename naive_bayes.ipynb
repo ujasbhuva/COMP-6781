{
 "cells": [
  {
   "cell_type": "markdown",
   "metadata": {},
   "source": [
    "# Naive Bayes classifier for classifying AI-generated tweet and human-generated tweet"
   ]
  },
  {
   "cell_type": "markdown",
   "metadata": {},
   "source": [
    "\n",
    "## Loading Datasets"
   ]
  },
  {
   "cell_type": "code",
   "execution_count": 63,
   "metadata": {
    "execution": {
     "iopub.execute_input": "2024-11-18T17:28:03.267463Z",
     "iopub.status.busy": "2024-11-18T17:28:03.266894Z",
     "iopub.status.idle": "2024-11-18T17:28:03.402865Z",
     "shell.execute_reply": "2024-11-18T17:28:03.402039Z",
     "shell.execute_reply.started": "2024-11-18T17:28:03.267429Z"
    },
    "trusted": true
   },
   "outputs": [],
   "source": [
    "import pandas as pd\n",
    "train_df = pd.read_csv('dataset/train.csv')\n",
    "val_df = pd.read_csv('dataset/validation.csv')\n",
    "test_df = pd.read_csv('dataset/test.csv')"
   ]
  },
  {
   "cell_type": "code",
   "execution_count": 64,
   "metadata": {},
   "outputs": [
    {
     "data": {
      "text/html": [
       "<div>\n",
       "<style scoped>\n",
       "    .dataframe tbody tr th:only-of-type {\n",
       "        vertical-align: middle;\n",
       "    }\n",
       "\n",
       "    .dataframe tbody tr th {\n",
       "        vertical-align: top;\n",
       "    }\n",
       "\n",
       "    .dataframe thead th {\n",
       "        text-align: right;\n",
       "    }\n",
       "</style>\n",
       "<table border=\"1\" class=\"dataframe\">\n",
       "  <thead>\n",
       "    <tr style=\"text-align: right;\">\n",
       "      <th></th>\n",
       "      <th>screen_name</th>\n",
       "      <th>text</th>\n",
       "      <th>account.type</th>\n",
       "      <th>class_type</th>\n",
       "    </tr>\n",
       "  </thead>\n",
       "  <tbody>\n",
       "    <tr>\n",
       "      <th>0</th>\n",
       "      <td>imranyebot</td>\n",
       "      <td>YEA now that note GOOD</td>\n",
       "      <td>bot</td>\n",
       "      <td>others</td>\n",
       "    </tr>\n",
       "    <tr>\n",
       "      <th>1</th>\n",
       "      <td>zawvrk</td>\n",
       "      <td>Listen to This Charming Man by The Smiths  htt...</td>\n",
       "      <td>human</td>\n",
       "      <td>human</td>\n",
       "    </tr>\n",
       "    <tr>\n",
       "      <th>2</th>\n",
       "      <td>zawarbot</td>\n",
       "      <td>wish i can i would be seeing other hoes on the...</td>\n",
       "      <td>bot</td>\n",
       "      <td>others</td>\n",
       "    </tr>\n",
       "    <tr>\n",
       "      <th>3</th>\n",
       "      <td>ahadsheriffbot</td>\n",
       "      <td>The decade in the significantly easier schedul...</td>\n",
       "      <td>bot</td>\n",
       "      <td>others</td>\n",
       "    </tr>\n",
       "    <tr>\n",
       "      <th>4</th>\n",
       "      <td>kevinhookebot</td>\n",
       "      <td>\"Theim class=\\\"alignnone size-full wp-image-60...</td>\n",
       "      <td>bot</td>\n",
       "      <td>rnn</td>\n",
       "    </tr>\n",
       "  </tbody>\n",
       "</table>\n",
       "</div>"
      ],
      "text/plain": [
       "      screen_name                                               text  \\\n",
       "0      imranyebot                             YEA now that note GOOD   \n",
       "1          zawvrk  Listen to This Charming Man by The Smiths  htt...   \n",
       "2        zawarbot  wish i can i would be seeing other hoes on the...   \n",
       "3  ahadsheriffbot  The decade in the significantly easier schedul...   \n",
       "4   kevinhookebot  \"Theim class=\\\"alignnone size-full wp-image-60...   \n",
       "\n",
       "  account.type class_type  \n",
       "0          bot     others  \n",
       "1        human      human  \n",
       "2          bot     others  \n",
       "3          bot     others  \n",
       "4          bot        rnn  "
      ]
     },
     "execution_count": 64,
     "metadata": {},
     "output_type": "execute_result"
    }
   ],
   "source": [
    "train_df.head()"
   ]
  },
  {
   "cell_type": "markdown",
   "metadata": {},
   "source": [
    "## Preprocessing the Text Data"
   ]
  },
  {
   "cell_type": "code",
   "execution_count": 65,
   "metadata": {
    "execution": {
     "iopub.execute_input": "2024-11-18T17:28:03.404269Z",
     "iopub.status.busy": "2024-11-18T17:28:03.403986Z",
     "iopub.status.idle": "2024-11-18T17:28:04.121665Z",
     "shell.execute_reply": "2024-11-18T17:28:04.120494Z",
     "shell.execute_reply.started": "2024-11-18T17:28:03.404242Z"
    },
    "trusted": true
   },
   "outputs": [],
   "source": [
    "import re\n",
    "from nltk.corpus import stopwords\n",
    "import spacy\n",
    "\n",
    "if not spacy.util.is_package('en_core_web_sm'):\n",
    "    spacy.cli.download(\"en_core_web_sm\")\n",
    "\n",
    "nlp = spacy.load('en_core_web_sm')\n",
    "\n",
    "\n",
    "def preprocess_text(text):\n",
    "    \"\"\" Method to clean reviews from noise and standardize text across the different classes.\n",
    "    Arguments\n",
    "    ---------\n",
    "    text : String\n",
    "        Text to clean\n",
    "    Returns\n",
    "    -------\n",
    "    text : String\n",
    "        Cleaned text\n",
    "    \"\"\"\n",
    "    stop_words = set(stopwords.words('english'))\n",
    "    \n",
    "    text = text.lower() # Convert text to lowercase\n",
    "    text = text.replace('\\n', ' ') # Remove newline characters and extra spaces\n",
    "    text = re.sub(r'http\\S+', '', text) # Remove URLs\n",
    "    text = re.sub(r'[^\\w\\s]', ' ', text) # Remove punctuation and special characters\n",
    "    text = re.sub(r'\\d+', ' ', text) # Remove digits\n",
    "    text = ' '.join([word for word in text.split() if word not in stop_words]) # Remove stopwords\n",
    "    text = ' '.join( [token.lemma_ for token in nlp(text)]) # Lemmatize text\n",
    "\n",
    "    return text"
   ]
  },
  {
   "cell_type": "code",
   "execution_count": 66,
   "metadata": {
    "execution": {
     "iopub.status.busy": "2024-11-18T17:28:04.923748Z",
     "iopub.status.idle": "2024-11-18T17:28:04.924166Z",
     "shell.execute_reply": "2024-11-18T17:28:04.924005Z",
     "shell.execute_reply.started": "2024-11-18T17:28:04.923984Z"
    },
    "trusted": true
   },
   "outputs": [],
   "source": [
    "train_df['text'] = train_df['text'].apply(lambda x: preprocess_text(x))\n",
    "val_df['text'] = val_df['text'].apply(lambda x: preprocess_text(x))\n",
    "test_df['text'] = test_df['text'].apply(lambda x: preprocess_text(x))"
   ]
  },
  {
   "cell_type": "code",
   "execution_count": 67,
   "metadata": {
    "execution": {
     "iopub.execute_input": "2024-11-18T17:23:34.074179Z",
     "iopub.status.busy": "2024-11-18T17:23:34.073624Z",
     "iopub.status.idle": "2024-11-18T17:23:34.092733Z",
     "shell.execute_reply": "2024-11-18T17:23:34.091771Z",
     "shell.execute_reply.started": "2024-11-18T17:23:34.074144Z"
    },
    "trusted": true
   },
   "outputs": [
    {
     "data": {
      "text/html": [
       "<div>\n",
       "<style scoped>\n",
       "    .dataframe tbody tr th:only-of-type {\n",
       "        vertical-align: middle;\n",
       "    }\n",
       "\n",
       "    .dataframe tbody tr th {\n",
       "        vertical-align: top;\n",
       "    }\n",
       "\n",
       "    .dataframe thead th {\n",
       "        text-align: right;\n",
       "    }\n",
       "</style>\n",
       "<table border=\"1\" class=\"dataframe\">\n",
       "  <thead>\n",
       "    <tr style=\"text-align: right;\">\n",
       "      <th></th>\n",
       "      <th>screen_name</th>\n",
       "      <th>text</th>\n",
       "      <th>account.type</th>\n",
       "      <th>class_type</th>\n",
       "    </tr>\n",
       "  </thead>\n",
       "  <tbody>\n",
       "    <tr>\n",
       "      <th>0</th>\n",
       "      <td>imranyebot</td>\n",
       "      <td>yea note good</td>\n",
       "      <td>bot</td>\n",
       "      <td>others</td>\n",
       "    </tr>\n",
       "    <tr>\n",
       "      <th>1</th>\n",
       "      <td>zawvrk</td>\n",
       "      <td>listen charming man smith</td>\n",
       "      <td>human</td>\n",
       "      <td>human</td>\n",
       "    </tr>\n",
       "    <tr>\n",
       "      <th>2</th>\n",
       "      <td>zawarbot</td>\n",
       "      <td>wish would see hoe bad part</td>\n",
       "      <td>bot</td>\n",
       "      <td>others</td>\n",
       "    </tr>\n",
       "    <tr>\n",
       "      <th>3</th>\n",
       "      <td>ahadsheriffbot</td>\n",
       "      <td>decade significantly easy schedule like h</td>\n",
       "      <td>bot</td>\n",
       "      <td>others</td>\n",
       "    </tr>\n",
       "    <tr>\n",
       "      <th>4</th>\n",
       "      <td>kevinhookebot</td>\n",
       "      <td>theim class alignnone size full wp image src a...</td>\n",
       "      <td>bot</td>\n",
       "      <td>rnn</td>\n",
       "    </tr>\n",
       "  </tbody>\n",
       "</table>\n",
       "</div>"
      ],
      "text/plain": [
       "      screen_name                                               text  \\\n",
       "0      imranyebot                                      yea note good   \n",
       "1          zawvrk                          listen charming man smith   \n",
       "2        zawarbot                        wish would see hoe bad part   \n",
       "3  ahadsheriffbot          decade significantly easy schedule like h   \n",
       "4   kevinhookebot  theim class alignnone size full wp image src a...   \n",
       "\n",
       "  account.type class_type  \n",
       "0          bot     others  \n",
       "1        human      human  \n",
       "2          bot     others  \n",
       "3          bot     others  \n",
       "4          bot        rnn  "
      ]
     },
     "execution_count": 67,
     "metadata": {},
     "output_type": "execute_result"
    }
   ],
   "source": [
    "train_df.head()"
   ]
  },
  {
   "cell_type": "markdown",
   "metadata": {},
   "source": [
    "## Preparing the Features and Labels"
   ]
  },
  {
   "cell_type": "code",
   "execution_count": 68,
   "metadata": {
    "trusted": true
   },
   "outputs": [],
   "source": [
    "X_train = train_df['text']\n",
    "y_train = train_df['account.type']\n",
    "\n",
    "X_val = val_df['text']\n",
    "y_val = val_df['account.type']\n",
    "\n",
    "X_test = test_df['text']\n",
    "y_test = test_df['account.type']"
   ]
  },
  {
   "cell_type": "markdown",
   "metadata": {},
   "source": [
    "## Vectorizing the Text Data"
   ]
  },
  {
   "cell_type": "code",
   "execution_count": 69,
   "metadata": {
    "trusted": true
   },
   "outputs": [],
   "source": [
    "from sklearn.feature_extraction.text import TfidfVectorizer\n",
    "tfidf_vectorizer = TfidfVectorizer()\n",
    "\n",
    "X_train = tfidf_vectorizer.fit_transform(train_df['text'])\n",
    "y_train = train_df['account.type']\n",
    "\n",
    "X_val = tfidf_vectorizer.transform(val_df['text'])\n",
    "y_val = val_df['account.type']\n",
    "\n",
    "X_test = tfidf_vectorizer.transform(test_df['text'])\n",
    "y_test = test_df['account.type']"
   ]
  },
  {
   "cell_type": "code",
   "execution_count": 70,
   "metadata": {},
   "outputs": [
    {
     "data": {
      "text/plain": [
       "((20712, 25441), (2302, 25441), (2558, 25441))"
      ]
     },
     "execution_count": 70,
     "metadata": {},
     "output_type": "execute_result"
    }
   ],
   "source": [
    "X_train.shape, X_val.shape, X_test.shape"
   ]
  },
  {
   "cell_type": "markdown",
   "metadata": {},
   "source": [
    "## Implementation the Naive Bayes Classifier"
   ]
  },
  {
   "cell_type": "code",
   "execution_count": null,
   "metadata": {
    "trusted": true
   },
   "outputs": [],
   "source": [
    "import numpy as np\n",
    "from sklearn.metrics import classification_report, confusion_matrix\n",
    "\n",
    "\n",
    "class NaiveBayesClassifier:\n",
    "    def __init__(self, alpha=1):\n",
    "        self.alpha = alpha\n",
    "        self.class_probs = None\n",
    "        self.word_probs = None\n",
    "\n",
    "    def fit(self, X, y):\n",
    "        num_docs, vocab_size = X.shape\n",
    "        unique_classes, class_counts = np.unique(y, return_counts=True)\n",
    "        self.class_probs = class_counts / num_docs  # P(c)\n",
    "        self.word_probs = np.zeros((len(unique_classes), vocab_size))\n",
    "\n",
    "        for i, c in enumerate(unique_classes):\n",
    "            class_docs = X[y == c]\n",
    "            total_words = class_docs.sum()\n",
    "            self.word_probs[i, :] = (class_docs.sum(axis=0) + self.alpha) / (\n",
    "                total_words + self.alpha * vocab_size\n",
    "            )\n",
    "\n",
    "    def predict(self, X):\n",
    "        log_class_probs = np.log(self.class_probs)\n",
    "        log_word_probs = np.log(self.word_probs)\n",
    "        log_likelihoods = X @ log_word_probs.T + log_class_probs\n",
    "        return np.argmax(log_likelihoods, axis=1)"
   ]
  },
  {
   "cell_type": "markdown",
   "metadata": {},
   "source": [
    "## Finding best alpha from validation set"
   ]
  },
  {
   "cell_type": "code",
   "execution_count": 94,
   "metadata": {},
   "outputs": [
    {
     "name": "stderr",
     "output_type": "stream",
     "text": [
      "/var/folders/l8/sbknnyv96tz26jxsvt8xvxq00000gn/T/ipykernel_8882/3250028371.py:55: RuntimeWarning: divide by zero encountered in log\n",
      "  log_word_probs = np.log(self.word_probs)\n",
      "/var/folders/l8/sbknnyv96tz26jxsvt8xvxq00000gn/T/ipykernel_8882/3250028371.py:61: RuntimeWarning: invalid value encountered in multiply\n",
      "  log_likelihoods[i] = np.sum(log_word_probs * doc, axis=1) + log_class_probs\n"
     ]
    },
    {
     "name": "stdout",
     "output_type": "stream",
     "text": [
      "Best alpha from validation set: 0.25\n"
     ]
    }
   ],
   "source": [
    "best_alpha = 0\n",
    "best_val_accuracy = 0\n",
    "label_map = {0: \"bot\", 1: \"human\"}\n",
    "\n",
    "for alpha in np.arange(0.0, 5.0, 0.05):\n",
    "    nb_classifier = NaiveBayesClassifier(alpha=alpha)\n",
    "    nb_classifier.fit(X_train, y_train)\n",
    "    y_val_pred = nb_classifier.predict(X_val)\n",
    "    y_val_pred_labels = [label_map[pred] for pred in y_val_pred]\n",
    "    accuracy_val = np.mean(y_val_pred_labels == y_val)\n",
    "    if accuracy_val > best_val_accuracy:\n",
    "        best_val_accuracy = accuracy_val\n",
    "        best_alpha = alpha\n",
    "\n",
    "print(f\"Best alpha from validation set: {best_alpha}\")"
   ]
  },
  {
   "cell_type": "code",
   "execution_count": 95,
   "metadata": {},
   "outputs": [
    {
     "name": "stdout",
     "output_type": "stream",
     "text": [
      "Classification Report on Test Set:\n",
      "              precision    recall  f1-score   support\n",
      "\n",
      "         bot       0.72      0.64      0.68      1280\n",
      "       human       0.67      0.74      0.71      1278\n",
      "\n",
      "    accuracy                           0.69      2558\n",
      "   macro avg       0.70      0.69      0.69      2558\n",
      "weighted avg       0.70      0.69      0.69      2558\n",
      "\n"
     ]
    }
   ],
   "source": [
    "nb_classifier = NaiveBayesClassifier(alpha=0.25)\n",
    "nb_classifier.fit(X_train, y_train)\n",
    "label_map = {0: 'bot', 1: 'human'}\n",
    "\n",
    "y_test_pred = nb_classifier.predict(X_test)\n",
    "y_test_pred_labels = [label_map[pred] for pred in y_test_pred]\n",
    "print(\"Classification Report on Test Set:\")\n",
    "print(classification_report(y_test, y_test_pred_labels))\n"
   ]
  },
  {
   "cell_type": "code",
   "execution_count": 96,
   "metadata": {},
   "outputs": [
    {
     "data": {
      "image/png": "[encoded data removed]",
      "text/plain": [
       "<Figure size 400x400 with 2 Axes>"
      ]
     },
     "metadata": {},
     "output_type": "display_data"
    }
   ],
   "source": [
    "import seaborn as sns\n",
    "import matplotlib.pyplot as plt\n",
    "\n",
    "cm_test = confusion_matrix(y_test, y_test_pred_labels)\n",
    "\n",
    "plt.figure(figsize=(4, 4))\n",
    "sns.heatmap(cm_test, annot=True, fmt='d', cmap='Blues', xticklabels=['Bot', 'Human'], yticklabels=['Bot', 'Human'])\n",
    "plt.title('Confusion Matrix - Test Set')\n",
    "plt.xlabel('Predicted')\n",
    "plt.ylabel('Actual')\n",
    "plt.show()"
   ]
  },
  {
   "cell_type": "markdown",
   "metadata": {},
   "source": [
    "## Testing different values of alpha"
   ]
  },
  {
   "cell_type": "code",
   "execution_count": 98,
   "metadata": {},
   "outputs": [
    {
     "data": {
      "image/png": "[encoded data removed]",
      "text/plain": [
       "<Figure size 640x480 with 1 Axes>"
      ]
     },
     "metadata": {},
     "output_type": "display_data"
    }
   ],
   "source": [
    "alphas = [0.1, 0.15, 0.25, 0.3, 0.4, 0.5, 0.6, 0.7, 0.8, 0.9]\n",
    "accuracies = []\n",
    "\n",
    "for alpha in alphas:\n",
    "    nb_classifier = NaiveBayesClassifier(alpha=alpha)\n",
    "    nb_classifier.fit(X_train, y_train)\n",
    "    y_val_pred = nb_classifier.predict(X_val)\n",
    "    y_val_pred_labels = [label_map[pred] for pred in y_val_pred]\n",
    "    accuracy = np.mean(y_val_pred_labels == y_val)\n",
    "    accuracies.append(accuracy)\n",
    "    \n",
    "plt.plot(alphas, accuracies, marker='o')\n",
    "plt.xlabel('Alpha')\n",
    "plt.ylabel('Accuracy')\n",
    "plt.title('Accuracy vs Alpha')\n",
    "plt.show()"
   ]
  }
 ],
 "metadata": {
  "kaggle": {
   "accelerator": "none",
   "dataSources": [
    {
     "datasetId": 6114146,
     "sourceId": 9943657,
     "sourceType": "datasetVersion"
    }
   ],
   "dockerImageVersionId": 30786,
   "isGpuEnabled": false,
   "isInternetEnabled": true,
   "language": "python",
   "sourceType": "notebook"
  },
  "kernelspec": {
   "display_name": "Python 3",
   "language": "python",
   "name": "python3"
  },
  "language_info": {
   "codemirror_mode": {
    "name": "ipython",
    "version": 3
   },
   "file_extension": ".py",
   "mimetype": "text/x-python",
   "name": "python",
   "nbconvert_exporter": "python",
   "pygments_lexer": "ipython3",
   "version": "3.9.6"
  }
 },
 "nbformat": 4,
 "nbformat_minor": 4
}
